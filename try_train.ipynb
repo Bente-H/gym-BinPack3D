{
 "cells": [
  {
   "cell_type": "code",
   "execution_count": 11,
   "metadata": {},
   "outputs": [],
   "source": [
    "import gymnasium as gym\n",
    "import torch\n",
    "import torch.nn as nn\n",
    "from stable_baselines3 import A2C\n",
    "from stable_baselines3.common.policies import ActorCriticCnnPolicy\n",
    "from stable_baselines3.common.torch_layers import BaseFeaturesExtractor\n",
    "import gym_BinPack3D\n",
    "from gym_BinPack3D.envs import Box, Rotate\n",
    "from stable_baselines3.common.env_checker import check_env\n",
    "from matplotlib import pyplot as plt\n",
    "import numpy as np\n",
    "# %matplotlib notebook\n",
    "\n"
   ]
  },
  {
   "cell_type": "code",
   "execution_count": 12,
   "metadata": {},
   "outputs": [
    {
     "name": "stdout",
     "output_type": "stream",
     "text": [
      "using random box sequence\n",
      "Box to be sampled:\n",
      "Box: Size 1 1 1 Position 0 0 0\n",
      "Box: Size 2 3 4 Position 0 0 0\n"
     ]
    },
    {
     "name": "stderr",
     "output_type": "stream",
     "text": [
      "c:\\Users\\bente\\anaconda3\\lib\\site-packages\\gymnasium\\utils\\passive_env_checker.py:42: UserWarning: \u001b[33mWARN: A Box observation space has an unconventional shape (neither an image, nor a 1D vector). We recommend flattening the observation to have only a 1D vector or use a custom policy to properly process the data. Actual observation shape: (10, 12)\u001b[0m\n",
      "  logger.warn(\n"
     ]
    },
    {
     "ename": "AssertionError",
     "evalue": "Expect all shape elements to be an integer, actual type: (<class 'NoneType'>,)",
     "output_type": "error",
     "traceback": [
      "\u001b[1;31m---------------------------------------------------------------------------\u001b[0m",
      "\u001b[1;31mAssertionError\u001b[0m                            Traceback (most recent call last)",
      "Input \u001b[1;32mIn [12]\u001b[0m, in \u001b[0;36m<cell line: 62>\u001b[1;34m()\u001b[0m\n\u001b[0;32m     59\u001b[0m         \u001b[38;5;28;01mreturn\u001b[39;00m np\u001b[38;5;241m.\u001b[39mconcatenate([space\u001b[38;5;241m.\u001b[39mflatten() \u001b[38;5;28;01mfor\u001b[39;00m space \u001b[38;5;129;01min\u001b[39;00m observation\u001b[38;5;241m.\u001b[39mvalues()])\n\u001b[0;32m     61\u001b[0m \u001b[38;5;66;03m# Wrap your environment\u001b[39;00m\n\u001b[1;32m---> 62\u001b[0m env \u001b[38;5;241m=\u001b[39m \u001b[43mFlattenObservation\u001b[49m\u001b[43m(\u001b[49m\u001b[43menv\u001b[49m\u001b[43m)\u001b[49m\n\u001b[0;32m     65\u001b[0m \u001b[38;5;66;03m# Use the custom policy\u001b[39;00m\n\u001b[0;32m     66\u001b[0m model \u001b[38;5;241m=\u001b[39m A2C(CustomPolicy, env, verbose\u001b[38;5;241m=\u001b[39m\u001b[38;5;241m1\u001b[39m)\n",
      "Input \u001b[1;32mIn [12]\u001b[0m, in \u001b[0;36mFlattenObservation.__init__\u001b[1;34m(self, env)\u001b[0m\n\u001b[0;32m     54\u001b[0m \u001b[38;5;28;01mdef\u001b[39;00m \u001b[38;5;21m__init__\u001b[39m(\u001b[38;5;28mself\u001b[39m, env):\n\u001b[0;32m     55\u001b[0m     \u001b[38;5;28msuper\u001b[39m()\u001b[38;5;241m.\u001b[39m\u001b[38;5;21m__init__\u001b[39m(env)\n\u001b[1;32m---> 56\u001b[0m     \u001b[38;5;28mself\u001b[39m\u001b[38;5;241m.\u001b[39mobservation_space \u001b[38;5;241m=\u001b[39m \u001b[43mgym\u001b[49m\u001b[38;5;241;43m.\u001b[39;49m\u001b[43mspaces\u001b[49m\u001b[38;5;241;43m.\u001b[39;49m\u001b[43mBox\u001b[49m\u001b[43m(\u001b[49m\u001b[43mlow\u001b[49m\u001b[38;5;241;43m=\u001b[39;49m\u001b[38;5;241;43m0\u001b[39;49m\u001b[43m,\u001b[49m\u001b[43m \u001b[49m\u001b[43mhigh\u001b[49m\u001b[38;5;241;43m=\u001b[39;49m\u001b[38;5;241;43m1\u001b[39;49m\u001b[43m,\u001b[49m\u001b[43m \u001b[49m\u001b[43mshape\u001b[49m\u001b[38;5;241;43m=\u001b[39;49m\u001b[43m(\u001b[49m\u001b[43mnp\u001b[49m\u001b[38;5;241;43m.\u001b[39;49m\u001b[43mproduct\u001b[49m\u001b[43m(\u001b[49m\u001b[43menv\u001b[49m\u001b[38;5;241;43m.\u001b[39;49m\u001b[43mobservation_space\u001b[49m\u001b[38;5;241;43m.\u001b[39;49m\u001b[43mshape\u001b[49m\u001b[43m)\u001b[49m\u001b[43m,\u001b[49m\u001b[43m)\u001b[49m\u001b[43m)\u001b[49m\n",
      "File \u001b[1;32mc:\\Users\\bente\\anaconda3\\lib\\site-packages\\gymnasium\\spaces\\box.py:90\u001b[0m, in \u001b[0;36mBox.__init__\u001b[1;34m(self, low, high, shape, dtype, seed)\u001b[0m\n\u001b[0;32m     88\u001b[0m \u001b[38;5;66;03m# determine shape if it isn't provided directly\u001b[39;00m\n\u001b[0;32m     89\u001b[0m \u001b[38;5;28;01mif\u001b[39;00m shape \u001b[38;5;129;01mis\u001b[39;00m \u001b[38;5;129;01mnot\u001b[39;00m \u001b[38;5;28;01mNone\u001b[39;00m:\n\u001b[1;32m---> 90\u001b[0m     \u001b[38;5;28;01massert\u001b[39;00m \u001b[38;5;28mall\u001b[39m(\n\u001b[0;32m     91\u001b[0m         np\u001b[38;5;241m.\u001b[39missubdtype(\u001b[38;5;28mtype\u001b[39m(dim), np\u001b[38;5;241m.\u001b[39minteger) \u001b[38;5;28;01mfor\u001b[39;00m dim \u001b[38;5;129;01min\u001b[39;00m shape\n\u001b[0;32m     92\u001b[0m     ), \u001b[38;5;124mf\u001b[39m\u001b[38;5;124m\"\u001b[39m\u001b[38;5;124mExpect all shape elements to be an integer, actual type: \u001b[39m\u001b[38;5;132;01m{\u001b[39;00m\u001b[38;5;28mtuple\u001b[39m(\u001b[38;5;28mtype\u001b[39m(dim) \u001b[38;5;28;01mfor\u001b[39;00m dim \u001b[38;5;129;01min\u001b[39;00m shape)\u001b[38;5;132;01m}\u001b[39;00m\u001b[38;5;124m\"\u001b[39m\n\u001b[0;32m     93\u001b[0m     shape \u001b[38;5;241m=\u001b[39m \u001b[38;5;28mtuple\u001b[39m(\u001b[38;5;28mint\u001b[39m(dim) \u001b[38;5;28;01mfor\u001b[39;00m dim \u001b[38;5;129;01min\u001b[39;00m shape)  \u001b[38;5;66;03m# This changes any np types to int\u001b[39;00m\n\u001b[0;32m     94\u001b[0m \u001b[38;5;28;01melif\u001b[39;00m \u001b[38;5;28misinstance\u001b[39m(low, np\u001b[38;5;241m.\u001b[39mndarray):\n",
      "\u001b[1;31mAssertionError\u001b[0m: Expect all shape elements to be an integer, actual type: (<class 'NoneType'>,)"
     ]
    }
   ],
   "source": [
    "class CustomCNN(BaseFeaturesExtractor):\n",
    "    def __init__(self, observation_space, features_dim=256):\n",
    "        super(CustomNetwork, self).__init__(observation_space, features_dim)\n",
    "\n",
    "        self.cnn = nn.Sequential(\n",
    "            nn.Conv2d(1, 32, kernel_size=3, stride=1, padding=1),\n",
    "            nn.ReLU(),\n",
    "            nn.Conv2d(32, 64, kernel_size=3, stride=1, padding=1),\n",
    "            nn.ReLU(),\n",
    "            nn.MaxPool2d(kernel_size=3, stride=2),\n",
    "            nn.Flatten(),\n",
    "        )\n",
    "\n",
    "        # Compute shape by doing one forward pass\n",
    "        self.fc = nn.Sequitial(\n",
    "            nn.Linear(64*8*8, features_dim),\n",
    "            nn.ReLU(),\n",
    "            nn.Linear(256, 2)\n",
    "        )\n",
    "\n",
    "    def forward(self, observations):\n",
    "        hmap = observations[\"height_map\"]\n",
    "        coming_boxes = observations[\"coming_boxes\"]\n",
    "        valid_placement_mask = observations[\"valid_placement_mask\"]\n",
    "\n",
    "        hmap = self.cnn(hmap)\n",
    "        coming_boxes = coming_boxes.flatten()\n",
    "        valid_placement_mask = valid_placement_mask.flatten()\n",
    "\n",
    "        x = torch.cat([hmap, coming_boxes, valid_placement_mask], dim=1)\n",
    "        x = self.fc(x)\n",
    "\n",
    "        return x\n",
    "    \n",
    "class CustomPolicy(ActorCriticCnnPolicy):\n",
    "    def __init__(self, observation_space, action_space, lr_schedule, net_arch=None, activation_fn=nn.Tanh,\n",
    "                 *args, **kwargs):\n",
    "        super(CustomPolicy, self).__init__(observation_space, action_space, lr_schedule,\n",
    "                                           net_arch=net_arch, activation_fn=activation_fn,\n",
    "                                           *args, **kwargs)\n",
    "\n",
    "        self.features_extractor = CustomNetwork(observation_space)\n",
    "        \n",
    "env = gym.make('BinPack3D-v0', \n",
    "                container_size = (10, 12, 20),\n",
    "                boxSeqGenerator='random', \n",
    "                enabled_rotations = [Rotate.NOOP],\n",
    "                n_foreseeable_box = 1,\n",
    "                minSideLen = 2,\n",
    "                maxSideLen = 5,\n",
    "            )\n",
    "\n",
    "class FlattenObservation(gym.Wrapper):\n",
    "    def __init__(self, env):\n",
    "        super().__init__(env)\n",
    "        self.observation_space = gym.spaces.Box(low=0, high=1, shape=(np.product(env.observation_space.shape),))\n",
    "\n",
    "    def observation(self, observation):\n",
    "        return np.concatenate([space.flatten() for space in observation.values()])\n",
    "\n",
    "# Wrap your environment\n",
    "env = FlattenObservation(env)\n",
    "\n",
    "\n",
    "# Use the custom policy\n",
    "model = A2C(CustomPolicy, env, verbose=1)"
   ]
  },
  {
   "cell_type": "code",
   "execution_count": null,
   "metadata": {},
   "outputs": [],
   "source": []
  }
 ],
 "metadata": {
  "kernelspec": {
   "display_name": "base",
   "language": "python",
   "name": "python3"
  },
  "language_info": {
   "codemirror_mode": {
    "name": "ipython",
    "version": 3
   },
   "file_extension": ".py",
   "mimetype": "text/x-python",
   "name": "python",
   "nbconvert_exporter": "python",
   "pygments_lexer": "ipython3",
   "version": "3.9.12"
  }
 },
 "nbformat": 4,
 "nbformat_minor": 2
}
